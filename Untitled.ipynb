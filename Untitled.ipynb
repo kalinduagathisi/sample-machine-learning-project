{
 "cells": [
  {
   "cell_type": "code",
   "execution_count": 1,
   "id": "09897815-1486-497c-8fa4-9c2cb92a574a",
   "metadata": {},
   "outputs": [
    {
     "data": {
      "text/plain": [
       "4"
      ]
     },
     "execution_count": 1,
     "metadata": {},
     "output_type": "execute_result"
    }
   ],
   "source": [
    "1+3"
   ]
  },
  {
   "cell_type": "code",
   "execution_count": 2,
   "id": "f3ef292b-b784-41b3-9431-920352929295",
   "metadata": {},
   "outputs": [
    {
     "name": "stdout",
     "output_type": "stream",
     "text": [
      "Hellooo\n"
     ]
    }
   ],
   "source": [
    "print('Hellooo')"
   ]
  },
  {
   "cell_type": "code",
   "execution_count": null,
   "id": "7556f396-742b-45ec-9407-5822209f080a",
   "metadata": {},
   "outputs": [],
   "source": []
  }
 ],
 "metadata": {
  "kernelspec": {
   "display_name": "Python 3 (ipykernel)",
   "language": "python",
   "name": "python3"
  },
  "language_info": {
   "codemirror_mode": {
    "name": "ipython",
    "version": 3
   },
   "file_extension": ".py",
   "mimetype": "text/x-python",
   "name": "python",
   "nbconvert_exporter": "python",
   "pygments_lexer": "ipython3",
   "version": "3.12.3"
  }
 },
 "nbformat": 4,
 "nbformat_minor": 5
}
