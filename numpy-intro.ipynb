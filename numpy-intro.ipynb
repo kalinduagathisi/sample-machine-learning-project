{
 "cells": [
  {
   "cell_type": "code",
   "execution_count": 1,
   "id": "02b9f73c-f7a5-4e37-ba7b-fe49556305df",
   "metadata": {},
   "outputs": [],
   "source": [
    "import numpy as np"
   ]
  },
  {
   "cell_type": "markdown",
   "id": "8d452225-da1e-41e4-b0a4-a58bcae87579",
   "metadata": {},
   "source": [
    "## Data Types and Attributes"
   ]
  },
  {
   "cell_type": "code",
   "execution_count": 2,
   "id": "58d97882-3299-492f-81b0-73db40fe512b",
   "metadata": {},
   "outputs": [
    {
     "data": {
      "text/plain": [
       "array([1, 2, 3])"
      ]
     },
     "execution_count": 2,
     "metadata": {},
     "output_type": "execute_result"
    }
   ],
   "source": [
    "# numpy's main data type is ndarray\n",
    "a1 = np.array([1, 2, 3])\n",
    "a1"
   ]
  },
  {
   "cell_type": "code",
   "execution_count": 3,
   "id": "9e86c688-97e0-4821-9885-077f5503e5db",
   "metadata": {},
   "outputs": [
    {
     "data": {
      "text/plain": [
       "numpy.ndarray"
      ]
     },
     "execution_count": 3,
     "metadata": {},
     "output_type": "execute_result"
    }
   ],
   "source": [
    "type(a1)"
   ]
  },
  {
   "cell_type": "code",
   "execution_count": 4,
   "id": "d561e943-8036-42c4-8a6b-e8946388d60f",
   "metadata": {},
   "outputs": [
    {
     "data": {
      "text/plain": [
       "array([[1. , 2. , 3.4],\n",
       "       [4. , 5.2, 6. ]])"
      ]
     },
     "execution_count": 4,
     "metadata": {},
     "output_type": "execute_result"
    }
   ],
   "source": [
    "a2 =  np.array([\n",
    "    [1, 2, 3.4],\n",
    "    [4, 5.2, 6]\n",
    "])\n",
    "a2"
   ]
  },
  {
   "cell_type": "code",
   "execution_count": 5,
   "id": "119b5b46-7f1f-46df-a786-6a594c4e792f",
   "metadata": {},
   "outputs": [
    {
     "data": {
      "text/plain": [
       "array([[[ 1,  2,  3],\n",
       "        [ 4,  5,  6],\n",
       "        [ 7,  8,  9]],\n",
       "\n",
       "       [[10, 11, 12],\n",
       "        [13, 14, 15],\n",
       "        [16, 17, 18]]])"
      ]
     },
     "execution_count": 5,
     "metadata": {},
     "output_type": "execute_result"
    }
   ],
   "source": [
    "a3 = np.array(\n",
    "    [\n",
    "        [\n",
    "            [1, 2, 3],\n",
    "            [4, 5, 6],\n",
    "            [7, 8, 9]\n",
    "        ],\n",
    "        [\n",
    "            [10, 11, 12],\n",
    "            [13, 14, 15],\n",
    "            [16, 17, 18]\n",
    "        ]\n",
    "    ]\n",
    ")\n",
    "a3"
   ]
  },
  {
   "cell_type": "code",
   "execution_count": 7,
   "id": "fdcd8607-5401-428f-891b-922c5c72605d",
   "metadata": {},
   "outputs": [
    {
     "data": {
      "text/plain": [
       "(3,)"
      ]
     },
     "execution_count": 7,
     "metadata": {},
     "output_type": "execute_result"
    }
   ],
   "source": [
    "a1.shape"
   ]
  },
  {
   "cell_type": "code",
   "execution_count": 8,
   "id": "a0b0d018-b99e-4243-895b-656fcef87d27",
   "metadata": {},
   "outputs": [
    {
     "data": {
      "text/plain": [
       "(2, 3)"
      ]
     },
     "execution_count": 8,
     "metadata": {},
     "output_type": "execute_result"
    }
   ],
   "source": [
    "a2.shape"
   ]
  },
  {
   "cell_type": "code",
   "execution_count": 9,
   "id": "dd56cfc6-9a6c-4ac1-93ce-86ffb664a028",
   "metadata": {},
   "outputs": [
    {
     "data": {
      "text/plain": [
       "(2, 3, 3)"
      ]
     },
     "execution_count": 9,
     "metadata": {},
     "output_type": "execute_result"
    }
   ],
   "source": [
    "a3.shape"
   ]
  },
  {
   "cell_type": "code",
   "execution_count": 10,
   "id": "f9aadf2e-b295-4ac3-9198-952b87bbb2c7",
   "metadata": {},
   "outputs": [
    {
     "data": {
      "text/plain": [
       "(1, 2, 3)"
      ]
     },
     "execution_count": 10,
     "metadata": {},
     "output_type": "execute_result"
    }
   ],
   "source": [
    "# dimensions \n",
    "a1.ndim, a2.ndim, a3.ndim"
   ]
  },
  {
   "cell_type": "code",
   "execution_count": 11,
   "id": "9df5215d-5df7-4aaa-a419-395536d16492",
   "metadata": {},
   "outputs": [
    {
     "data": {
      "text/plain": [
       "(3, 6, 18)"
      ]
     },
     "execution_count": 11,
     "metadata": {},
     "output_type": "execute_result"
    }
   ],
   "source": [
    "# size\n",
    "a1.size, a2.size, a3.size"
   ]
  },
  {
   "cell_type": "code",
   "execution_count": 12,
   "id": "e2ac0bed-eb7b-446d-8397-d73dbfd5666c",
   "metadata": {},
   "outputs": [
    {
     "data": {
      "text/plain": [
       "(dtype('int64'), dtype('float64'), dtype('int64'))"
      ]
     },
     "execution_count": 12,
     "metadata": {},
     "output_type": "execute_result"
    }
   ],
   "source": [
    "# data type\n",
    "a1.dtype, a2.dtype, a3.dtype"
   ]
  },
  {
   "cell_type": "code",
   "execution_count": 13,
   "id": "8c7cbf20-ad2f-4910-9a6a-8ba514c240a1",
   "metadata": {},
   "outputs": [
    {
     "data": {
      "text/plain": [
       "(numpy.ndarray, numpy.ndarray, numpy.ndarray)"
      ]
     },
     "execution_count": 13,
     "metadata": {},
     "output_type": "execute_result"
    }
   ],
   "source": [
    "# type\n",
    "type(a1), type(a2), type(a3)"
   ]
  },
  {
   "cell_type": "code",
   "execution_count": 15,
   "id": "265dd78e-53b9-4bc4-be9d-afe8c7f62d4b",
   "metadata": {},
   "outputs": [
    {
     "data": {
      "text/plain": [
       "array([[1. , 2. , 3.4],\n",
       "       [4. , 5.2, 6. ]])"
      ]
     },
     "execution_count": 15,
     "metadata": {},
     "output_type": "execute_result"
    }
   ],
   "source": [
    "a2"
   ]
  },
  {
   "cell_type": "code",
   "execution_count": 16,
   "id": "7e7048bd-3de5-4a0d-8115-3a1d235734d8",
   "metadata": {},
   "outputs": [
    {
     "data": {
      "text/plain": [
       "array([[[ 1,  2,  3],\n",
       "        [ 4,  5,  6],\n",
       "        [ 7,  8,  9]],\n",
       "\n",
       "       [[10, 11, 12],\n",
       "        [13, 14, 15],\n",
       "        [16, 17, 18]]])"
      ]
     },
     "execution_count": 16,
     "metadata": {},
     "output_type": "execute_result"
    }
   ],
   "source": [
    "a3"
   ]
  },
  {
   "cell_type": "code",
   "execution_count": null,
   "id": "a888ab71-517e-4689-afaf-b56ed89d42ca",
   "metadata": {},
   "outputs": [],
   "source": [
    "# pandas and other majority of machine learning algorithms are build on top of numpy!"
   ]
  },
  {
   "cell_type": "code",
   "execution_count": 17,
   "id": "9c6837a7-8c87-468d-9e96-c9f421a42cca",
   "metadata": {},
   "outputs": [
    {
     "data": {
      "text/html": [
       "<div>\n",
       "<style scoped>\n",
       "    .dataframe tbody tr th:only-of-type {\n",
       "        vertical-align: middle;\n",
       "    }\n",
       "\n",
       "    .dataframe tbody tr th {\n",
       "        vertical-align: top;\n",
       "    }\n",
       "\n",
       "    .dataframe thead th {\n",
       "        text-align: right;\n",
       "    }\n",
       "</style>\n",
       "<table border=\"1\" class=\"dataframe\">\n",
       "  <thead>\n",
       "    <tr style=\"text-align: right;\">\n",
       "      <th></th>\n",
       "      <th>0</th>\n",
       "      <th>1</th>\n",
       "      <th>2</th>\n",
       "    </tr>\n",
       "  </thead>\n",
       "  <tbody>\n",
       "    <tr>\n",
       "      <th>0</th>\n",
       "      <td>1.0</td>\n",
       "      <td>2.0</td>\n",
       "      <td>3.4</td>\n",
       "    </tr>\n",
       "    <tr>\n",
       "      <th>1</th>\n",
       "      <td>4.0</td>\n",
       "      <td>5.2</td>\n",
       "      <td>6.0</td>\n",
       "    </tr>\n",
       "  </tbody>\n",
       "</table>\n",
       "</div>"
      ],
      "text/plain": [
       "     0    1    2\n",
       "0  1.0  2.0  3.4\n",
       "1  4.0  5.2  6.0"
      ]
     },
     "execution_count": 17,
     "metadata": {},
     "output_type": "execute_result"
    }
   ],
   "source": [
    "# creating a data frame using numpy array\n",
    "import pandas as pd\n",
    "\n",
    "df = pd.DataFrame(a2)\n",
    "df"
   ]
  },
  {
   "cell_type": "markdown",
   "id": "2ffd92d5-309b-4f44-a3b8-fd460352f5c2",
   "metadata": {},
   "source": [
    "## Creating arrays"
   ]
  },
  {
   "cell_type": "code",
   "execution_count": 19,
   "id": "c1e3193c-d794-467e-a864-5bbfe053d45f",
   "metadata": {},
   "outputs": [
    {
     "data": {
      "text/plain": [
       "array([1, 2, 3])"
      ]
     },
     "execution_count": 19,
     "metadata": {},
     "output_type": "execute_result"
    }
   ],
   "source": [
    "sample_array = np.array([1, 2, 3])\n",
    "sample_array"
   ]
  },
  {
   "cell_type": "code",
   "execution_count": 21,
   "id": "7eb37480-c7a2-451f-aed7-ad34c41626f6",
   "metadata": {},
   "outputs": [
    {
     "data": {
      "text/plain": [
       "array([[1., 1., 1.],\n",
       "       [1., 1., 1.]])"
      ]
     },
     "execution_count": 21,
     "metadata": {},
     "output_type": "execute_result"
    }
   ],
   "source": [
    "# np.ones() creates an array filled with 1s.\n",
    "ones = np.ones((2,3))\n",
    "ones"
   ]
  },
  {
   "cell_type": "code",
   "execution_count": 22,
   "id": "3b78dca8-0b1b-4f19-b299-265d04f01eb3",
   "metadata": {},
   "outputs": [
    {
     "data": {
      "text/plain": [
       "dtype('float64')"
      ]
     },
     "execution_count": 22,
     "metadata": {},
     "output_type": "execute_result"
    }
   ],
   "source": [
    "ones.dtype"
   ]
  },
  {
   "cell_type": "code",
   "execution_count": 23,
   "id": "38ad096e-8e50-4b81-b48d-afdae1dc5786",
   "metadata": {},
   "outputs": [
    {
     "data": {
      "text/plain": [
       "numpy.ndarray"
      ]
     },
     "execution_count": 23,
     "metadata": {},
     "output_type": "execute_result"
    }
   ],
   "source": [
    "type(ones)"
   ]
  },
  {
   "cell_type": "code",
   "execution_count": 24,
   "id": "74415ca4-25d2-4d5c-86c4-91c409684a74",
   "metadata": {},
   "outputs": [],
   "source": [
    "# np.zeros() creates array filled with 0s.\n",
    "zeros = np.zeros((2, 3))"
   ]
  },
  {
   "cell_type": "code",
   "execution_count": 25,
   "id": "bfc6aaf0-06f1-4453-8f28-42573b6f69f2",
   "metadata": {},
   "outputs": [
    {
     "data": {
      "text/plain": [
       "array([[0., 0., 0.],\n",
       "       [0., 0., 0.]])"
      ]
     },
     "execution_count": 25,
     "metadata": {},
     "output_type": "execute_result"
    }
   ],
   "source": [
    "zeros"
   ]
  },
  {
   "cell_type": "code",
   "execution_count": 26,
   "id": "3bd48dae-f2cc-47da-b969-4c660a427bb9",
   "metadata": {},
   "outputs": [
    {
     "data": {
      "text/plain": [
       "array([0, 2, 4, 6, 8])"
      ]
     },
     "execution_count": 26,
     "metadata": {},
     "output_type": "execute_result"
    }
   ],
   "source": [
    "# np.arange() creates array with in given range with specified gap\n",
    "range_array = np.arange(0, 10, 2)\n",
    "range_array"
   ]
  },
  {
   "cell_type": "code",
   "execution_count": 27,
   "id": "5b8982c3-d7fd-4e40-9428-4ffb85e1161c",
   "metadata": {},
   "outputs": [
    {
     "data": {
      "text/plain": [
       "array([[8, 8, 1, 0, 7],\n",
       "       [0, 4, 0, 6, 4],\n",
       "       [6, 0, 9, 9, 9]])"
      ]
     },
     "execution_count": 27,
     "metadata": {},
     "output_type": "execute_result"
    }
   ],
   "source": [
    "# creating a random array\n",
    "random_array = np.random.randint(0, 10, size=(3,5))\n",
    "random_array"
   ]
  },
  {
   "cell_type": "code",
   "execution_count": 28,
   "id": "6ae46e06-c23f-4b5e-91a9-14a24761fc90",
   "metadata": {},
   "outputs": [
    {
     "data": {
      "text/plain": [
       "15"
      ]
     },
     "execution_count": 28,
     "metadata": {},
     "output_type": "execute_result"
    }
   ],
   "source": [
    "random_array.size"
   ]
  },
  {
   "cell_type": "code",
   "execution_count": 29,
   "id": "5439197a-99c7-47e6-963e-a68f5c2b7835",
   "metadata": {},
   "outputs": [
    {
     "data": {
      "text/plain": [
       "(3, 5)"
      ]
     },
     "execution_count": 29,
     "metadata": {},
     "output_type": "execute_result"
    }
   ],
   "source": [
    "random_array.shape"
   ]
  },
  {
   "cell_type": "code",
   "execution_count": 30,
   "id": "c24cd2ee-3734-425b-8ce0-f519c47ced4f",
   "metadata": {},
   "outputs": [
    {
     "data": {
      "text/plain": [
       "array([[0.49515888, 0.03373452, 0.70220018, 0.19063091, 0.04845988],\n",
       "       [0.96165149, 0.64457748, 0.19384205, 0.45054481, 0.42382943],\n",
       "       [0.0176066 , 0.79967309, 0.27033846, 0.02324936, 0.21103246]])"
      ]
     },
     "execution_count": 30,
     "metadata": {},
     "output_type": "execute_result"
    }
   ],
   "source": [
    "# creating a random array: method 2\n",
    "random_array_2 = np.random.random((3,5))\n",
    "random_array_2"
   ]
  },
  {
   "cell_type": "code",
   "execution_count": 32,
   "id": "4392c7a1-4321-4549-b5f5-e96be18494a4",
   "metadata": {},
   "outputs": [
    {
     "data": {
      "text/plain": [
       "array([[0.85951121, 0.69219754, 0.02511217, 0.95788171, 0.68041854],\n",
       "       [0.4445534 , 0.08468717, 0.71606426, 0.24851336, 0.35371794],\n",
       "       [0.79805793, 0.82432079, 0.70634368, 0.75680741, 0.41019626]])"
      ]
     },
     "execution_count": 32,
     "metadata": {},
     "output_type": "execute_result"
    }
   ],
   "source": [
    "# creating random array: method 3\n",
    "random_array_3 = np.random.rand(3,5)\n",
    "random_array_3"
   ]
  },
  {
   "cell_type": "code",
   "execution_count": 40,
   "id": "40810231-ebe9-4ede-aff1-8e26bdc77ce5",
   "metadata": {},
   "outputs": [
    {
     "data": {
      "text/plain": [
       "array([[5, 0, 3, 3, 7],\n",
       "       [9, 3, 5, 2, 4],\n",
       "       [7, 6, 8, 8, 1]])"
      ]
     },
     "execution_count": 40,
     "metadata": {},
     "output_type": "execute_result"
    }
   ],
   "source": [
    "# pseudo random numbers\n",
    "# basically we can use np.random.seed(seed=?) to get exact same random numbers every time.\n",
    "# this will be beneficial if we need to get the exact same data as results when running the same notebook in another machine!\n",
    "np.random.seed(seed=0)\n",
    "random_array_4 = np.random.randint(10, size=(3,5))\n",
    "random_array_4"
   ]
  },
  {
   "cell_type": "code",
   "execution_count": 39,
   "id": "55476db1-4623-4969-9c4d-218626a3fe51",
   "metadata": {},
   "outputs": [
    {
     "data": {
      "text/plain": [
       "array([[0.77132064, 0.02075195, 0.63364823, 0.74880388, 0.49850701],\n",
       "       [0.22479665, 0.19806286, 0.76053071, 0.16911084, 0.08833981],\n",
       "       [0.68535982, 0.95339335, 0.00394827, 0.51219226, 0.81262096]])"
      ]
     },
     "execution_count": 39,
     "metadata": {},
     "output_type": "execute_result"
    }
   ],
   "source": [
    "np.random.seed(seed=10)\n",
    "random_array_5 = np.random.random((3,5))\n",
    "random_array_5"
   ]
  },
  {
   "cell_type": "markdown",
   "id": "413a8eac-dcf5-4a4d-b215-6b3416648f2f",
   "metadata": {},
   "source": [
    "## Viewing arrays and matrices"
   ]
  },
  {
   "cell_type": "code",
   "execution_count": 41,
   "id": "a28c656b-7936-4e87-b068-374381e0b485",
   "metadata": {},
   "outputs": [
    {
     "data": {
      "text/plain": [
       "array([1, 2, 3])"
      ]
     },
     "execution_count": 41,
     "metadata": {},
     "output_type": "execute_result"
    }
   ],
   "source": [
    "a1"
   ]
  },
  {
   "cell_type": "code",
   "execution_count": 42,
   "id": "a8e65d35-5d61-43ed-aa21-e26fa60a6cc2",
   "metadata": {},
   "outputs": [
    {
     "data": {
      "text/plain": [
       "array([[1. , 2. , 3.4],\n",
       "       [4. , 5.2, 6. ]])"
      ]
     },
     "execution_count": 42,
     "metadata": {},
     "output_type": "execute_result"
    }
   ],
   "source": [
    "a2"
   ]
  },
  {
   "cell_type": "code",
   "execution_count": 43,
   "id": "442f26c6-476e-4d6e-8104-4704a9d37eb8",
   "metadata": {},
   "outputs": [
    {
     "data": {
      "text/plain": [
       "array([[[ 1,  2,  3],\n",
       "        [ 4,  5,  6],\n",
       "        [ 7,  8,  9]],\n",
       "\n",
       "       [[10, 11, 12],\n",
       "        [13, 14, 15],\n",
       "        [16, 17, 18]]])"
      ]
     },
     "execution_count": 43,
     "metadata": {},
     "output_type": "execute_result"
    }
   ],
   "source": [
    "a3"
   ]
  },
  {
   "cell_type": "code",
   "execution_count": 45,
   "id": "6f41c2b4-8e78-4839-a592-f6f85157c20a",
   "metadata": {},
   "outputs": [
    {
     "data": {
      "text/plain": [
       "3"
      ]
     },
     "execution_count": 45,
     "metadata": {},
     "output_type": "execute_result"
    }
   ],
   "source": [
    "# get dimensions of a3\n",
    "a3.ndim"
   ]
  },
  {
   "cell_type": "code",
   "execution_count": 46,
   "id": "29949939-8043-4be2-ac19-d0519fa7f5df",
   "metadata": {},
   "outputs": [
    {
     "data": {
      "text/plain": [
       "array([[1, 2, 3],\n",
       "       [4, 5, 6],\n",
       "       [7, 8, 9]])"
      ]
     },
     "execution_count": 46,
     "metadata": {},
     "output_type": "execute_result"
    }
   ],
   "source": [
    "a3[0]"
   ]
  },
  {
   "cell_type": "code",
   "execution_count": 47,
   "id": "ee4da02a-6c38-46eb-ab0e-e3da69f3331b",
   "metadata": {},
   "outputs": [
    {
     "data": {
      "text/plain": [
       "array([[10, 11, 12],\n",
       "       [13, 14, 15],\n",
       "       [16, 17, 18]])"
      ]
     },
     "execution_count": 47,
     "metadata": {},
     "output_type": "execute_result"
    }
   ],
   "source": [
    "a3[1]"
   ]
  },
  {
   "cell_type": "code",
   "execution_count": 49,
   "id": "e4c43dbe-aee2-4f7c-b7d2-95c4d1db0cad",
   "metadata": {},
   "outputs": [
    {
     "data": {
      "text/plain": [
       "array([1, 2, 3])"
      ]
     },
     "execution_count": 49,
     "metadata": {},
     "output_type": "execute_result"
    }
   ],
   "source": [
    "a3[0][0]"
   ]
  },
  {
   "cell_type": "code",
   "execution_count": 50,
   "id": "eb28df6e-013d-4241-b484-59aae4709307",
   "metadata": {},
   "outputs": [
    {
     "data": {
      "text/plain": [
       "2"
      ]
     },
     "execution_count": 50,
     "metadata": {},
     "output_type": "execute_result"
    }
   ],
   "source": [
    "a3[0][0][1]"
   ]
  },
  {
   "cell_type": "code",
   "execution_count": 55,
   "id": "5e9e7494-1e98-49fc-a331-aa3187e740f5",
   "metadata": {},
   "outputs": [
    {
     "data": {
      "text/plain": [
       "array([[[[9, 4, 0, 1, 9],\n",
       "         [0, 1, 8, 9, 0],\n",
       "         [8, 6, 4, 3, 0],\n",
       "         [4, 6, 8, 1, 8]],\n",
       "\n",
       "        [[4, 1, 3, 6, 5],\n",
       "         [3, 9, 6, 9, 1],\n",
       "         [9, 4, 2, 6, 7],\n",
       "         [8, 8, 9, 2, 0]],\n",
       "\n",
       "        [[6, 7, 8, 1, 7],\n",
       "         [1, 4, 0, 8, 5],\n",
       "         [4, 7, 8, 8, 2],\n",
       "         [6, 2, 8, 8, 6]]],\n",
       "\n",
       "\n",
       "       [[[6, 5, 6, 0, 0],\n",
       "         [6, 9, 1, 8, 9],\n",
       "         [1, 2, 8, 9, 9],\n",
       "         [5, 0, 2, 7, 3]],\n",
       "\n",
       "        [[0, 4, 2, 0, 3],\n",
       "         [3, 1, 2, 5, 9],\n",
       "         [0, 1, 0, 1, 9],\n",
       "         [0, 9, 2, 1, 1]],\n",
       "\n",
       "        [[0, 0, 5, 9, 0],\n",
       "         [4, 6, 6, 0, 2],\n",
       "         [3, 3, 2, 6, 0],\n",
       "         [5, 1, 3, 6, 5]]]])"
      ]
     },
     "execution_count": 55,
     "metadata": {},
     "output_type": "execute_result"
    }
   ],
   "source": [
    "np.random.seed(seed=10)\n",
    "a4 = np.random.randint(10, size=(2,3,4,5))\n",
    "a4\n",
    "\n",
    "# structure should be as follows then\n",
    "\n",
    "[\n",
    "    [\n",
    "        [\n",
    "            xxxxx\n",
    "            xxxxx\n",
    "            xxxxx\n",
    "            xxxxx\n",
    "        ],\n",
    "        [\n",
    "            xxxxx\n",
    "            xxxxx\n",
    "            xxxxx\n",
    "            xxxxx\n",
    "        ],\n",
    "        [\n",
    "            xxxxx\n",
    "            xxxxx\n",
    "            xxxxx\n",
    "            xxxxx\n",
    "        ]\n",
    "    ],\n",
    "    \n",
    "    [\n",
    "        [\n",
    "            xxxxx\n",
    "            xxxxx\n",
    "            xxxxx\n",
    "            xxxxx\n",
    "        ],\n",
    "        [\n",
    "            xxxxx\n",
    "            xxxxx\n",
    "            xxxxx\n",
    "            xxxxx\n",
    "        ],\n",
    "        [\n",
    "            xxxxx\n",
    "            xxxxx\n",
    "            xxxxx\n",
    "            xxxxx\n",
    "        ]\n",
    "    ],\n",
    "]"
   ]
  },
  {
   "cell_type": "code",
   "execution_count": 56,
   "id": "23fd8005-49bd-4575-affd-aaa22833f940",
   "metadata": {},
   "outputs": [
    {
     "data": {
      "text/plain": [
       "4"
      ]
     },
     "execution_count": 56,
     "metadata": {},
     "output_type": "execute_result"
    }
   ],
   "source": [
    "a4.ndim"
   ]
  },
  {
   "cell_type": "markdown",
   "id": "2720d454-d97f-4744-8767-7b01091ba0e1",
   "metadata": {},
   "source": [
    "## Manipulating Arrays"
   ]
  },
  {
   "cell_type": "markdown",
   "id": "1bb4f21b-4776-41e5-8820-bea8d7110681",
   "metadata": {},
   "source": [
    "### Arithmatic"
   ]
  },
  {
   "cell_type": "code",
   "execution_count": 57,
   "id": "92041232-e05d-4e03-b30f-47ce03abdf45",
   "metadata": {},
   "outputs": [
    {
     "data": {
      "text/plain": [
       "array([1, 2, 3])"
      ]
     },
     "execution_count": 57,
     "metadata": {},
     "output_type": "execute_result"
    }
   ],
   "source": [
    "a1"
   ]
  },
  {
   "cell_type": "code",
   "execution_count": 59,
   "id": "dd92514b-4101-4acd-940f-1622d84924f0",
   "metadata": {},
   "outputs": [
    {
     "data": {
      "text/plain": [
       "array([1., 1., 1.])"
      ]
     },
     "execution_count": 59,
     "metadata": {},
     "output_type": "execute_result"
    }
   ],
   "source": [
    "ones = np.ones(3)\n",
    "ones"
   ]
  },
  {
   "cell_type": "code",
   "execution_count": 60,
   "id": "90dbc46e-70a7-469d-b168-8ada71bde057",
   "metadata": {},
   "outputs": [
    {
     "data": {
      "text/plain": [
       "array([2., 3., 4.])"
      ]
     },
     "execution_count": 60,
     "metadata": {},
     "output_type": "execute_result"
    }
   ],
   "source": [
    "a1+ones"
   ]
  },
  {
   "cell_type": "code",
   "execution_count": 61,
   "id": "b0046dfb-203b-41bb-ac6e-79b49cd539be",
   "metadata": {},
   "outputs": [
    {
     "data": {
      "text/plain": [
       "array([0., 1., 2.])"
      ]
     },
     "execution_count": 61,
     "metadata": {},
     "output_type": "execute_result"
    }
   ],
   "source": [
    "a1-ones"
   ]
  },
  {
   "cell_type": "code",
   "execution_count": 63,
   "id": "3ea474aa-e836-4f93-aa14-b2bc881bddee",
   "metadata": {},
   "outputs": [
    {
     "data": {
      "text/plain": [
       "array([1, 2, 3])"
      ]
     },
     "execution_count": 63,
     "metadata": {},
     "output_type": "execute_result"
    }
   ],
   "source": [
    "a1"
   ]
  },
  {
   "cell_type": "code",
   "execution_count": 64,
   "id": "b18f4342-c540-446b-830c-73c8e9e056b8",
   "metadata": {},
   "outputs": [
    {
     "data": {
      "text/plain": [
       "array([[1. , 2. , 3.4],\n",
       "       [4. , 5.2, 6. ]])"
      ]
     },
     "execution_count": 64,
     "metadata": {},
     "output_type": "execute_result"
    }
   ],
   "source": [
    "a2"
   ]
  },
  {
   "cell_type": "code",
   "execution_count": 65,
   "id": "dd08f912-3233-4881-80c1-c1abe6bcb642",
   "metadata": {},
   "outputs": [
    {
     "data": {
      "text/plain": [
       "array([[ 1. ,  4. , 10.2],\n",
       "       [ 4. , 10.4, 18. ]])"
      ]
     },
     "execution_count": 65,
     "metadata": {},
     "output_type": "execute_result"
    }
   ],
   "source": [
    "a1*a2"
   ]
  },
  {
   "cell_type": "code",
   "execution_count": 66,
   "id": "25b1e159-a829-49be-a886-043277f773ff",
   "metadata": {},
   "outputs": [
    {
     "data": {
      "text/plain": [
       "array([1., 2., 3.])"
      ]
     },
     "execution_count": 66,
     "metadata": {},
     "output_type": "execute_result"
    }
   ],
   "source": [
    "a1/ones"
   ]
  },
  {
   "cell_type": "code",
   "execution_count": 69,
   "id": "a8b6884f-8443-4f35-a0b2-1efc6a723bba",
   "metadata": {},
   "outputs": [
    {
     "data": {
      "text/plain": [
       "array([[1.        , 1.        , 1.13333333],\n",
       "       [4.        , 2.6       , 2.        ]])"
      ]
     },
     "execution_count": 69,
     "metadata": {},
     "output_type": "execute_result"
    }
   ],
   "source": [
    "# normal division\n",
    "a2/a1"
   ]
  },
  {
   "cell_type": "code",
   "execution_count": 68,
   "id": "772aadf1-352b-4777-b843-4e11ef56d938",
   "metadata": {},
   "outputs": [
    {
     "data": {
      "text/plain": [
       "array([[1., 1., 1.],\n",
       "       [4., 2., 2.]])"
      ]
     },
     "execution_count": 68,
     "metadata": {},
     "output_type": "execute_result"
    }
   ],
   "source": [
    "# floor division\n",
    "a2//a1"
   ]
  },
  {
   "cell_type": "code",
   "execution_count": 70,
   "id": "98a8f525-12c2-4058-bc06-b1045d37380a",
   "metadata": {},
   "outputs": [
    {
     "data": {
      "text/plain": [
       "array([[ 1.  ,  4.  , 11.56],\n",
       "       [16.  , 27.04, 36.  ]])"
      ]
     },
     "execution_count": 70,
     "metadata": {},
     "output_type": "execute_result"
    }
   ],
   "source": [
    "a2**2"
   ]
  },
  {
   "cell_type": "code",
   "execution_count": 71,
   "id": "4af8c34f-0be6-43b2-94cd-5f31ff507e0d",
   "metadata": {},
   "outputs": [
    {
     "data": {
      "text/plain": [
       "array([[ 1.  ,  4.  , 11.56],\n",
       "       [16.  , 27.04, 36.  ]])"
      ]
     },
     "execution_count": 71,
     "metadata": {},
     "output_type": "execute_result"
    }
   ],
   "source": [
    "# or we can use arithmatic functions defined in python\n",
    "np.square(a2)"
   ]
  },
  {
   "cell_type": "code",
   "execution_count": 73,
   "id": "3b0b1884-7131-49cc-af91-fe3feba8f4ac",
   "metadata": {},
   "outputs": [
    {
     "data": {
      "text/plain": [
       "array([2., 3., 4.])"
      ]
     },
     "execution_count": 73,
     "metadata": {},
     "output_type": "execute_result"
    }
   ],
   "source": [
    "np.add(a1, ones)"
   ]
  },
  {
   "cell_type": "code",
   "execution_count": 74,
   "id": "562eba26-0ea7-4a58-821f-b3bd688fb6ad",
   "metadata": {},
   "outputs": [
    {
     "data": {
      "text/plain": [
       "array([0.5, 1. , 1.5])"
      ]
     },
     "execution_count": 74,
     "metadata": {},
     "output_type": "execute_result"
    }
   ],
   "source": [
    "a1/2"
   ]
  },
  {
   "cell_type": "code",
   "execution_count": 75,
   "id": "19c5c6f4-6c90-4ad7-96c8-fb4c5116442c",
   "metadata": {},
   "outputs": [
    {
     "data": {
      "text/plain": [
       "array([1, 0, 1])"
      ]
     },
     "execution_count": 75,
     "metadata": {},
     "output_type": "execute_result"
    }
   ],
   "source": [
    "# modulus : division remainder\n",
    "a1%2"
   ]
  },
  {
   "cell_type": "code",
   "execution_count": 78,
   "id": "909cee9c-f93a-47a9-8c4c-40560be5f4d0",
   "metadata": {},
   "outputs": [
    {
     "data": {
      "text/plain": [
       "array([1, 2, 3])"
      ]
     },
     "execution_count": 78,
     "metadata": {},
     "output_type": "execute_result"
    }
   ],
   "source": [
    "a1"
   ]
  },
  {
   "cell_type": "code",
   "execution_count": 76,
   "id": "ddba6a89-25b1-4a12-b2dd-61b083311961",
   "metadata": {},
   "outputs": [
    {
     "data": {
      "text/plain": [
       "array([0.        , 0.69314718, 1.09861229])"
      ]
     },
     "execution_count": 76,
     "metadata": {},
     "output_type": "execute_result"
    }
   ],
   "source": [
    "# log\n",
    "np.log(a1)"
   ]
  },
  {
   "cell_type": "code",
   "execution_count": 77,
   "id": "34133855-2ea2-4526-b473-5ea50bf068d3",
   "metadata": {},
   "outputs": [
    {
     "data": {
      "text/plain": [
       "array([ 2.71828183,  7.3890561 , 20.08553692])"
      ]
     },
     "execution_count": 77,
     "metadata": {},
     "output_type": "execute_result"
    }
   ],
   "source": [
    "# exponential\n",
    "np.exp(a1)"
   ]
  },
  {
   "cell_type": "markdown",
   "id": "8c3bad8f-95a8-45c9-9456-97757fd90751",
   "metadata": {},
   "source": [
    "### Aggregation"
   ]
  },
  {
   "cell_type": "code",
   "execution_count": 81,
   "id": "9b91c7af-2545-4438-a7e3-860c786c0c3a",
   "metadata": {},
   "outputs": [],
   "source": [
    "# Aggregation means performing the same operation on number of things"
   ]
  },
  {
   "cell_type": "code",
   "execution_count": 82,
   "id": "c9a055f9-8156-4713-96eb-0cbf01d65099",
   "metadata": {},
   "outputs": [
    {
     "data": {
      "text/plain": [
       "[1, 2, 3]"
      ]
     },
     "execution_count": 82,
     "metadata": {},
     "output_type": "execute_result"
    }
   ],
   "source": [
    "list = [1, 2, 3]\n",
    "list"
   ]
  },
  {
   "cell_type": "code",
   "execution_count": 83,
   "id": "deeb641d-884a-4c3b-b90f-7f520872f9c7",
   "metadata": {},
   "outputs": [
    {
     "data": {
      "text/plain": [
       "list"
      ]
     },
     "execution_count": 83,
     "metadata": {},
     "output_type": "execute_result"
    }
   ],
   "source": [
    "type(list)"
   ]
  },
  {
   "cell_type": "code",
   "execution_count": 84,
   "id": "6f0cd89c-0918-4672-97a6-387879839465",
   "metadata": {},
   "outputs": [
    {
     "data": {
      "text/plain": [
       "array([1, 2, 3])"
      ]
     },
     "execution_count": 84,
     "metadata": {},
     "output_type": "execute_result"
    }
   ],
   "source": [
    "a1"
   ]
  },
  {
   "cell_type": "code",
   "execution_count": 85,
   "id": "3f3b68fd-e58b-4ccb-baf3-9f2d30f942ca",
   "metadata": {},
   "outputs": [
    {
     "data": {
      "text/plain": [
       "numpy.ndarray"
      ]
     },
     "execution_count": 85,
     "metadata": {},
     "output_type": "execute_result"
    }
   ],
   "source": [
    "type(a1)"
   ]
  },
  {
   "cell_type": "code",
   "execution_count": 86,
   "id": "548ab528-a501-4677-8f73-60ac3f77b523",
   "metadata": {},
   "outputs": [
    {
     "data": {
      "text/plain": [
       "6"
      ]
     },
     "execution_count": 86,
     "metadata": {},
     "output_type": "execute_result"
    }
   ],
   "source": [
    "sum(list)"
   ]
  },
  {
   "cell_type": "code",
   "execution_count": 87,
   "id": "3e15c5d9-bd3b-4722-8e9d-71ce6be942c4",
   "metadata": {},
   "outputs": [
    {
     "data": {
      "text/plain": [
       "6"
      ]
     },
     "execution_count": 87,
     "metadata": {},
     "output_type": "execute_result"
    }
   ],
   "source": [
    "sum(a1)"
   ]
  },
  {
   "cell_type": "code",
   "execution_count": 88,
   "id": "547506cb-32df-4024-975a-ea6258128e86",
   "metadata": {},
   "outputs": [
    {
     "data": {
      "text/plain": [
       "6"
      ]
     },
     "execution_count": 88,
     "metadata": {},
     "output_type": "execute_result"
    }
   ],
   "source": [
    "np.sum(a1)"
   ]
  },
  {
   "cell_type": "markdown",
   "id": "a3b6c2f6-bb44-454f-98c0-445aa6f7d071",
   "metadata": {},
   "source": [
    "Use Python's methods ( sum() ) on python data types and use Numpy's methods ( np.sum() ) on Numpy arrays."
   ]
  },
  {
   "cell_type": "code",
   "execution_count": 89,
   "id": "193b3198-0a5c-40d4-8f49-41ea20787955",
   "metadata": {},
   "outputs": [
    {
     "data": {
      "text/plain": [
       "100000"
      ]
     },
     "execution_count": 89,
     "metadata": {},
     "output_type": "execute_result"
    }
   ],
   "source": [
    "# creating an massive array\n",
    "massive_array = np.random.random(100000)\n",
    "massive_array.size"
   ]
  },
  {
   "cell_type": "code",
   "execution_count": 90,
   "id": "951b7257-7cba-4385-8a51-d96fade0d5a4",
   "metadata": {},
   "outputs": [
    {
     "data": {
      "text/plain": [
       "array([3.40037289e-01, 8.35570794e-01, 4.65441626e-01, 9.28561081e-02,\n",
       "       8.54694143e-01, 3.37258186e-01, 6.06146751e-01, 1.12664601e-01,\n",
       "       5.43920447e-01, 7.20798582e-01, 8.65815366e-01, 1.46701124e-01,\n",
       "       1.03381070e-01, 4.90554679e-01, 2.91795557e-02, 5.94860950e-01,\n",
       "       2.05845476e-01, 2.02802974e-01, 8.44125875e-01, 6.15663765e-02,\n",
       "       4.99230689e-01, 2.48466979e-01, 3.27144028e-01, 2.91608835e-03,\n",
       "       2.95442135e-01, 9.86889122e-01, 2.38332715e-01, 7.33396475e-01,\n",
       "       9.62196888e-01, 8.15455788e-01, 6.94226978e-01, 2.10696094e-01,\n",
       "       5.17844068e-01, 9.49669991e-01, 6.95973867e-01, 9.04664735e-01,\n",
       "       6.47892430e-01, 3.45302149e-01, 6.54978571e-02, 2.20627863e-01,\n",
       "       1.37373246e-01, 7.44295925e-01, 3.46690659e-01, 5.77664255e-01,\n",
       "       1.68352936e-01, 3.79717043e-02, 8.17176704e-01, 8.12464853e-01,\n",
       "       1.88435660e-01, 3.73062398e-01, 7.44192136e-01, 1.86247774e-01,\n",
       "       4.13797806e-01, 2.31005320e-01, 6.53622929e-01, 7.64374761e-01,\n",
       "       8.34879131e-01, 2.12212852e-01, 9.61966601e-01, 2.61140343e-01,\n",
       "       8.63770196e-01, 1.26874420e-01, 3.70902213e-01, 6.71933033e-01,\n",
       "       9.33852241e-01, 5.58899533e-01, 6.72449110e-01, 7.70552647e-02,\n",
       "       2.49886233e-01, 3.55581389e-01, 2.34320897e-02, 9.35129021e-01,\n",
       "       2.09597713e-01, 5.76772979e-01, 5.81047331e-01, 2.33921161e-01,\n",
       "       4.82979190e-01, 5.47043324e-01, 8.71812312e-01, 9.64036026e-01,\n",
       "       1.61610577e-01, 1.68902167e-02, 1.70299745e-02, 1.98835036e-01,\n",
       "       8.98546049e-01, 7.85855837e-01, 6.85921973e-01, 3.26532436e-01,\n",
       "       4.08490423e-01, 5.73873270e-01, 9.86666357e-04, 7.49852541e-01,\n",
       "       7.50839025e-01, 3.83272549e-01, 3.72938507e-01, 8.42681871e-01,\n",
       "       7.59296481e-01, 1.65782506e-01, 7.54156326e-01, 5.95993935e-01])"
      ]
     },
     "execution_count": 90,
     "metadata": {},
     "output_type": "execute_result"
    }
   ],
   "source": [
    "massive_array[:100]"
   ]
  },
  {
   "cell_type": "code",
   "execution_count": 91,
   "id": "7416738b-abee-4d3e-9713-f8a6e588f9b3",
   "metadata": {},
   "outputs": [
    {
     "data": {
      "text/plain": [
       "array([0.34003729, 0.83557079, 0.46544163, 0.09285611, 0.85469414,\n",
       "       0.33725819, 0.60614675, 0.1126646 , 0.54392045, 0.72079858])"
      ]
     },
     "execution_count": 91,
     "metadata": {},
     "output_type": "execute_result"
    }
   ],
   "source": [
    "massive_array[:10]"
   ]
  },
  {
   "cell_type": "code",
   "execution_count": 92,
   "id": "d1ffd8f3-c346-4eb9-9c1c-710d220d8afc",
   "metadata": {},
   "outputs": [
    {
     "name": "stdout",
     "output_type": "stream",
     "text": [
      "7.09 ms ± 198 µs per loop (mean ± std. dev. of 7 runs, 100 loops each)\n",
      "32.5 µs ± 22 ns per loop (mean ± std. dev. of 7 runs, 10,000 loops each)\n"
     ]
    }
   ],
   "source": [
    "# using pythons magic function to measure time on two different sum() functions\n",
    "%timeit sum(massive_array) #Python's sum()\n",
    "%timeit np.sum(massive_array) #Numpy's sum()"
   ]
  },
  {
   "cell_type": "code",
   "execution_count": 93,
   "id": "0350cbf9-0ad5-4458-a794-018c3a27bae1",
   "metadata": {},
   "outputs": [
    {
     "data": {
      "text/plain": [
       "array([[1. , 2. , 3.4],\n",
       "       [4. , 5.2, 6. ]])"
      ]
     },
     "execution_count": 93,
     "metadata": {},
     "output_type": "execute_result"
    }
   ],
   "source": [
    "a2"
   ]
  },
  {
   "cell_type": "code",
   "execution_count": 94,
   "id": "9fe8a6da-2ec8-418d-ac0e-fa071d0a2a09",
   "metadata": {},
   "outputs": [
    {
     "data": {
      "text/plain": [
       "<function ndarray.mean>"
      ]
     },
     "execution_count": 94,
     "metadata": {},
     "output_type": "execute_result"
    }
   ],
   "source": [
    "a2.mean"
   ]
  },
  {
   "cell_type": "code",
   "execution_count": 95,
   "id": "cb9059da-8952-48e9-be48-60f098de76bb",
   "metadata": {},
   "outputs": [
    {
     "data": {
      "text/plain": [
       "3.6"
      ]
     },
     "execution_count": 95,
     "metadata": {},
     "output_type": "execute_result"
    }
   ],
   "source": [
    "a2.mean()"
   ]
  },
  {
   "cell_type": "code",
   "execution_count": 96,
   "id": "61746970-bd23-49b1-8d25-ddc7d13c415e",
   "metadata": {},
   "outputs": [
    {
     "data": {
      "text/plain": [
       "3.6"
      ]
     },
     "execution_count": 96,
     "metadata": {},
     "output_type": "execute_result"
    }
   ],
   "source": [
    "np.mean(a2)"
   ]
  },
  {
   "cell_type": "code",
   "execution_count": 97,
   "id": "df362f36-b56d-4242-bc95-9df39d15e8b4",
   "metadata": {},
   "outputs": [
    {
     "data": {
      "text/plain": [
       "1.0"
      ]
     },
     "execution_count": 97,
     "metadata": {},
     "output_type": "execute_result"
    }
   ],
   "source": [
    "np.min(a2)"
   ]
  },
  {
   "cell_type": "code",
   "execution_count": 98,
   "id": "e32378e2-cd9c-44c9-847e-8112d2c01348",
   "metadata": {},
   "outputs": [
    {
     "data": {
      "text/plain": [
       "6.0"
      ]
     },
     "execution_count": 98,
     "metadata": {},
     "output_type": "execute_result"
    }
   ],
   "source": [
    "np.max(a2)"
   ]
  },
  {
   "cell_type": "code",
   "execution_count": 103,
   "id": "71243597-4fe5-40ea-b34e-69c816ee0886",
   "metadata": {},
   "outputs": [
    {
     "data": {
      "text/plain": [
       "1.724335620850342"
      ]
     },
     "execution_count": 103,
     "metadata": {},
     "output_type": "execute_result"
    }
   ],
   "source": [
    "# standard deviation\n",
    "# standard deviation = a measure of how spread up the group of numbers from the mean\n",
    "np.std(a2)"
   ]
  },
  {
   "cell_type": "code",
   "execution_count": 102,
   "id": "8cc3bcbf-7e7f-4c5c-8248-29b416d7be4f",
   "metadata": {},
   "outputs": [
    {
     "data": {
      "text/plain": [
       "2.973333333333334"
      ]
     },
     "execution_count": 102,
     "metadata": {},
     "output_type": "execute_result"
    }
   ],
   "source": [
    "# variance\n",
    "# variance is the measure of the average degree to which each number is different to the mean.\n",
    "# higher variance = wider range of numbers\n",
    "# lower variance = lower range of numbers\n",
    "np.var(a2)"
   ]
  },
  {
   "cell_type": "code",
   "execution_count": 104,
   "id": "0f0297fa-ac77-406f-a269-107b9a656c14",
   "metadata": {},
   "outputs": [
    {
     "data": {
      "text/plain": [
       "1.724335620850342"
      ]
     },
     "execution_count": 104,
     "metadata": {},
     "output_type": "execute_result"
    }
   ],
   "source": [
    "# standard deviation = squareroot of variance\n",
    "np.sqrt(np.var(a2))"
   ]
  },
  {
   "cell_type": "code",
   "execution_count": 105,
   "id": "ca955767-ee8e-4327-8619-c1ddadfcb1c9",
   "metadata": {},
   "outputs": [],
   "source": [
    "# demo example of std and var\n",
    "high_var_array = np.array([1, 100, 200, 300, 4000, 5000])\n",
    "low_var_array = np.array([2, 4, 6, 8, 10])"
   ]
  },
  {
   "cell_type": "code",
   "execution_count": 106,
   "id": "84b269de-0402-43a8-ad07-2f25697abf41",
   "metadata": {},
   "outputs": [
    {
     "data": {
      "text/plain": [
       "(4296133.472222221, 8.0)"
      ]
     },
     "execution_count": 106,
     "metadata": {},
     "output_type": "execute_result"
    }
   ],
   "source": [
    "np.var(high_var_array), np.var(low_var_array)"
   ]
  },
  {
   "cell_type": "code",
   "execution_count": 107,
   "id": "dc802eaa-0992-4b27-a1a9-8eecc2d00c3b",
   "metadata": {},
   "outputs": [
    {
     "data": {
      "text/plain": [
       "(2072.711623024829, 2.8284271247461903)"
      ]
     },
     "execution_count": 107,
     "metadata": {},
     "output_type": "execute_result"
    }
   ],
   "source": [
    "np.std(high_var_array), np.std(low_var_array)"
   ]
  },
  {
   "cell_type": "code",
   "execution_count": 108,
   "id": "d4a96c42-3654-4ece-b8c4-232b95bcf58e",
   "metadata": {},
   "outputs": [
    {
     "data": {
      "text/plain": [
       "(1600.1666666666667, 6.0)"
      ]
     },
     "execution_count": 108,
     "metadata": {},
     "output_type": "execute_result"
    }
   ],
   "source": [
    "np.mean(high_var_array), np.mean(low_var_array)"
   ]
  },
  {
   "cell_type": "code",
   "execution_count": 109,
   "id": "79938857-7e99-48d5-9e35-cc5406563ac2",
   "metadata": {},
   "outputs": [
    {
     "data": {
      "image/png": "[encoded data removed]",
      "text/plain": [
       "<Figure size 640x480 with 1 Axes>"
      ]
     },
     "metadata": {},
     "output_type": "display_data"
    }
   ],
   "source": [
    "%matplotlib inline\n",
    "import matplotlib.pyplot as plt\n",
    "plt.hist(high_var_array)\n",
    "plt.show()"
   ]
  },
  {
   "cell_type": "code",
   "execution_count": 110,
   "id": "d44cd290-3b61-49f9-8420-8b39ec5383a3",
   "metadata": {},
   "outputs": [
    {
     "data": {
      "image/png": "[encoded data removed]",
      "text/plain": [
       "<Figure size 640x480 with 1 Axes>"
      ]
     },
     "metadata": {},
     "output_type": "display_data"
    }
   ],
   "source": [
    "plt.hist(low_var_array)\n",
    "plt.show()"
   ]
  },
  {
   "cell_type": "code",
   "execution_count": null,
   "id": "bacb9815-4eff-442a-84fd-009309609ec1",
   "metadata": {},
   "outputs": [],
   "source": []
  }
 ],
 "metadata": {
  "kernelspec": {
   "display_name": "Python 3 (ipykernel)",
   "language": "python",
   "name": "python3"
  },
  "language_info": {
   "codemirror_mode": {
    "name": "ipython",
    "version": 3
   },
   "file_extension": ".py",
   "mimetype": "text/x-python",
   "name": "python",
   "nbconvert_exporter": "python",
   "pygments_lexer": "ipython3",
   "version": "3.12.3"
  }
 },
 "nbformat": 4,
 "nbformat_minor": 5
}
